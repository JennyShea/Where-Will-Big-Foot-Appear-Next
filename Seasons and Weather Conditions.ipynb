{
 "cells": [
  {
   "cell_type": "code",
   "execution_count": 1,
   "id": "14737369",
   "metadata": {},
   "outputs": [
    {
     "name": "stdout",
     "output_type": "stream",
     "text": [
      "<class 'pandas.core.frame.DataFrame'>\n",
      "RangeIndex: 5021 entries, 0 to 5020\n",
      "Data columns (total 28 columns):\n",
      " #   Column              Non-Null Count  Dtype  \n",
      "---  ------              --------------  -----  \n",
      " 0   observed            4983 non-null   object \n",
      " 1   location_details    4261 non-null   object \n",
      " 2   county              5021 non-null   object \n",
      " 3   state               5021 non-null   object \n",
      " 4   season              5021 non-null   object \n",
      " 5   title               4045 non-null   object \n",
      " 6   latitude            4045 non-null   float64\n",
      " 7   longitude           4045 non-null   float64\n",
      " 8   date                4045 non-null   object \n",
      " 9   number              5021 non-null   float64\n",
      " 10  classification      5021 non-null   object \n",
      " 11  geohash             4045 non-null   object \n",
      " 12  temperature_high    3338 non-null   float64\n",
      " 13  temperature_mid     3186 non-null   float64\n",
      " 14  temperature_low     3189 non-null   float64\n",
      " 15  dew_point           3373 non-null   float64\n",
      " 16  humidity            3373 non-null   float64\n",
      " 17  cloud_cover         3084 non-null   float64\n",
      " 18  moon_phase          3396 non-null   float64\n",
      " 19  precip_intensity    2712 non-null   float64\n",
      " 20  precip_probability  2710 non-null   float64\n",
      " 21  precip_type         1723 non-null   object \n",
      " 22  pressure            2619 non-null   float64\n",
      " 23  summary             3366 non-null   object \n",
      " 24  uv_index            3392 non-null   float64\n",
      " 25  visibility          3049 non-null   float64\n",
      " 26  wind_bearing        3387 non-null   float64\n",
      " 27  wind_speed          3389 non-null   float64\n",
      "dtypes: float64(17), object(11)\n",
      "memory usage: 1.1+ MB\n"
     ]
    }
   ],
   "source": [
    "import numpy as np\n",
    "import pandas as pd\n",
    "\n",
    "everything_df =pd.read_csv(\"Resources/bfro_reports_geocoded.csv\")\n",
    "everything_df.info()"
   ]
  },
  {
   "cell_type": "code",
   "execution_count": 2,
   "id": "dfddd30f",
   "metadata": {},
   "outputs": [
    {
     "data": {
      "text/plain": [
       "106.51"
      ]
     },
     "execution_count": 2,
     "metadata": {},
     "output_type": "execute_result"
    }
   ],
   "source": [
    "high_temp = everything_df[\"temperature_high\"].max()\n",
    "high_temp"
   ]
  },
  {
   "cell_type": "code",
   "execution_count": 3,
   "id": "fbe5e668",
   "metadata": {},
   "outputs": [
    {
     "data": {
      "text/plain": [
       "-22.78"
      ]
     },
     "execution_count": 3,
     "metadata": {},
     "output_type": "execute_result"
    }
   ],
   "source": [
    "low_temp = everything_df[\"temperature_low\"].min()\n",
    "low_temp"
   ]
  },
  {
   "cell_type": "code",
   "execution_count": 4,
   "id": "b2d45b14",
   "metadata": {},
   "outputs": [
    {
     "data": {
      "text/plain": [
       "57.843377275580465"
      ]
     },
     "execution_count": 4,
     "metadata": {},
     "output_type": "execute_result"
    }
   ],
   "source": [
    "av_temp = everything_df[\"temperature_mid\"].mean()\n",
    "av_temp"
   ]
  },
  {
   "cell_type": "code",
   "execution_count": 5,
   "id": "76c275ee",
   "metadata": {},
   "outputs": [
    {
     "data": {
      "text/plain": [
       "1.0"
      ]
     },
     "execution_count": 5,
     "metadata": {},
     "output_type": "execute_result"
    }
   ],
   "source": [
    "high_humidity = everything_df[\"humidity\"].max()\n",
    "high_humidity"
   ]
  },
  {
   "cell_type": "code",
   "execution_count": 6,
   "id": "4b92435e",
   "metadata": {},
   "outputs": [
    {
     "data": {
      "text/plain": [
       "0.08"
      ]
     },
     "execution_count": 6,
     "metadata": {},
     "output_type": "execute_result"
    }
   ],
   "source": [
    "low_humidity = everything_df[\"humidity\"].min()\n",
    "low_humidity"
   ]
  },
  {
   "cell_type": "code",
   "execution_count": 7,
   "id": "fd1c3f1f",
   "metadata": {},
   "outputs": [
    {
     "data": {
      "text/plain": [
       "0.7056715090423937"
      ]
     },
     "execution_count": 7,
     "metadata": {},
     "output_type": "execute_result"
    }
   ],
   "source": [
    "av_humidity = everything_df[\"humidity\"].mean()\n",
    "av_humidity"
   ]
  },
  {
   "cell_type": "code",
   "execution_count": 8,
   "id": "7623f5ae",
   "metadata": {},
   "outputs": [
    {
     "data": {
      "text/plain": [
       "0.43898184176394067"
      ]
     },
     "execution_count": 8,
     "metadata": {},
     "output_type": "execute_result"
    }
   ],
   "source": [
    "cloud_cover_av = everything_df[\"cloud_cover\"].mean()\n",
    "cloud_cover_av"
   ]
  },
  {
   "cell_type": "code",
   "execution_count": 9,
   "id": "062f641f",
   "metadata": {},
   "outputs": [
    {
     "data": {
      "text/plain": [
       "0.005708259587020648"
      ]
     },
     "execution_count": 9,
     "metadata": {},
     "output_type": "execute_result"
    }
   ],
   "source": [
    "precipitation_intensity_av = everything_df[\"precip_intensity\"].mean()\n",
    "precipitation_intensity_av"
   ]
  },
  {
   "cell_type": "code",
   "execution_count": 10,
   "id": "a9ac37cf",
   "metadata": {},
   "outputs": [
    {
     "data": {
      "text/plain": [
       "23.94"
      ]
     },
     "execution_count": 10,
     "metadata": {},
     "output_type": "execute_result"
    }
   ],
   "source": [
    "wind_speed_max = everything_df[\"wind_speed\"].max()\n",
    "wind_speed_max"
   ]
  },
  {
   "cell_type": "code",
   "execution_count": 11,
   "id": "b3e81a55",
   "metadata": {},
   "outputs": [
    {
     "data": {
      "text/plain": [
       "3.8660814399527808"
      ]
     },
     "execution_count": 11,
     "metadata": {},
     "output_type": "execute_result"
    }
   ],
   "source": [
    "wind_speed_av = everything_df[\"wind_speed\"].mean()\n",
    "wind_speed_av"
   ]
  },
  {
   "cell_type": "code",
   "execution_count": 24,
   "id": "1bbd5e89",
   "metadata": {},
   "outputs": [],
   "source": [
    "best_conditions = {\"High Temp\": high_temp,\n",
    "                   \"Low Temp\": low_temp,\n",
    "                   \"Av Temp\": av_temp,\n",
    "                   \"High Humidity\": high_humidity,\n",
    "                   \"Low Humidity\": low_humidity, \n",
    "                   \"Av Humidity\": av_humidity, \n",
    "                   \"Av Cloud Cover\": cloud_cover_av,\n",
    "                   \"Av Precip Intesity\": precipitation_intensity_av,\n",
    "                   \"Max Wind Speed\": wind_speed_max,\n",
    "                   \"Wind Speed Av\": wind_speed_av\n",
    "                  }                            "
   ]
  },
  {
   "cell_type": "code",
   "execution_count": 25,
   "id": "cc843d13",
   "metadata": {},
   "outputs": [
    {
     "data": {
      "text/plain": [
       "{'High Temp': 106.51,\n",
       " 'Low Temp': -22.78,\n",
       " 'Av Temp': 57.843377275580465,\n",
       " 'High Humidity': 1.0,\n",
       " 'Low Humidity': 0.08,\n",
       " 'Av Humidity': 0.7056715090423937,\n",
       " 'Av Cloud Cover': 0.43898184176394067,\n",
       " 'Av Precip Intesity': 0.005708259587020648,\n",
       " 'Max Wind Speed': 23.94,\n",
       " 'Wind Speed Av': 3.8660814399527808}"
      ]
     },
     "execution_count": 25,
     "metadata": {},
     "output_type": "execute_result"
    }
   ],
   "source": [
    "best_conditions"
   ]
  },
  {
   "cell_type": "code",
   "execution_count": 28,
   "id": "2f266918",
   "metadata": {},
   "outputs": [
    {
     "ename": "AttributeError",
     "evalue": "'dict' object has no attribute 'to_csv'",
     "output_type": "error",
     "traceback": [
      "\u001b[1;31m---------------------------------------------------------------------------\u001b[0m",
      "\u001b[1;31mAttributeError\u001b[0m                            Traceback (most recent call last)",
      "\u001b[1;32m~\\AppData\\Local\\Temp/ipykernel_22316/3445534158.py\u001b[0m in \u001b[0;36m<module>\u001b[1;34m\u001b[0m\n\u001b[1;32m----> 1\u001b[1;33m \u001b[0mbest_conditions\u001b[0m\u001b[1;33m.\u001b[0m\u001b[0mto_csv\u001b[0m\u001b[1;33m(\u001b[0m\u001b[1;34m\"Cleaned CSVs/Best Sighting Conditions\"\u001b[0m\u001b[1;33m)\u001b[0m\u001b[1;33m\u001b[0m\u001b[1;33m\u001b[0m\u001b[0m\n\u001b[0m",
      "\u001b[1;31mAttributeError\u001b[0m: 'dict' object has no attribute 'to_csv'"
     ]
    }
   ],
   "source": []
  },
  {
   "cell_type": "code",
   "execution_count": null,
   "id": "64137956",
   "metadata": {},
   "outputs": [],
   "source": []
  }
 ],
 "metadata": {
  "kernelspec": {
   "display_name": "Python [conda env:PythonData]",
   "language": "python",
   "name": "conda-env-PythonData-py"
  },
  "language_info": {
   "codemirror_mode": {
    "name": "ipython",
    "version": 3
   },
   "file_extension": ".py",
   "mimetype": "text/x-python",
   "name": "python",
   "nbconvert_exporter": "python",
   "pygments_lexer": "ipython3",
   "version": "3.8.11"
  }
 },
 "nbformat": 4,
 "nbformat_minor": 5
}
