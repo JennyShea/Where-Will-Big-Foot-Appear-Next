{
 "cells": [
  {
   "cell_type": "code",
   "execution_count": 1,
   "id": "14737369",
   "metadata": {},
   "outputs": [
    {
     "name": "stdout",
     "output_type": "stream",
     "text": [
      "<class 'pandas.core.frame.DataFrame'>\n",
      "RangeIndex: 5021 entries, 0 to 5020\n",
      "Data columns (total 28 columns):\n",
      " #   Column              Non-Null Count  Dtype  \n",
      "---  ------              --------------  -----  \n",
      " 0   observed            4983 non-null   object \n",
      " 1   location_details    4261 non-null   object \n",
      " 2   county              5021 non-null   object \n",
      " 3   state               5021 non-null   object \n",
      " 4   season              5021 non-null   object \n",
      " 5   title               4045 non-null   object \n",
      " 6   latitude            4045 non-null   float64\n",
      " 7   longitude           4045 non-null   float64\n",
      " 8   date                4045 non-null   object \n",
      " 9   number              5021 non-null   float64\n",
      " 10  classification      5021 non-null   object \n",
      " 11  geohash             4045 non-null   object \n",
      " 12  temperature_high    3338 non-null   float64\n",
      " 13  temperature_mid     3186 non-null   float64\n",
      " 14  temperature_low     3189 non-null   float64\n",
      " 15  dew_point           3373 non-null   float64\n",
      " 16  humidity            3373 non-null   float64\n",
      " 17  cloud_cover         3084 non-null   float64\n",
      " 18  moon_phase          3396 non-null   float64\n",
      " 19  precip_intensity    2712 non-null   float64\n",
      " 20  precip_probability  2710 non-null   float64\n",
      " 21  precip_type         1723 non-null   object \n",
      " 22  pressure            2619 non-null   float64\n",
      " 23  summary             3366 non-null   object \n",
      " 24  uv_index            3392 non-null   float64\n",
      " 25  visibility          3049 non-null   float64\n",
      " 26  wind_bearing        3387 non-null   float64\n",
      " 27  wind_speed          3389 non-null   float64\n",
      "dtypes: float64(17), object(11)\n",
      "memory usage: 1.1+ MB\n"
     ]
    }
   ],
   "source": [
    "import numpy as np\n",
    "import pandas as pd\n",
    "\n",
    "everything_df =pd.read_csv(\"Resources/bfro_reports_geocoded.csv\")\n",
    "everything_df.info()"
   ]
  },
  {
   "cell_type": "code",
   "execution_count": 2,
   "id": "dfddd30f",
   "metadata": {},
   "outputs": [
    {
     "data": {
      "text/plain": [
       "106.51"
      ]
     },
     "execution_count": 2,
     "metadata": {},
     "output_type": "execute_result"
    }
   ],
   "source": [
    "high_temp = everything_df[\"temperature_high\"].max()\n",
    "high_temp"
   ]
  },
  {
   "cell_type": "code",
   "execution_count": 3,
   "id": "fbe5e668",
   "metadata": {},
   "outputs": [
    {
     "data": {
      "text/plain": [
       "-22.78"
      ]
     },
     "execution_count": 3,
     "metadata": {},
     "output_type": "execute_result"
    }
   ],
   "source": [
    "low_temp = everything_df[\"temperature_low\"].min()\n",
    "low_temp"
   ]
  },
  {
   "cell_type": "code",
   "execution_count": 4,
   "id": "b2d45b14",
   "metadata": {},
   "outputs": [
    {
     "data": {
      "text/plain": [
       "57.843377275580465"
      ]
     },
     "execution_count": 4,
     "metadata": {},
     "output_type": "execute_result"
    }
   ],
   "source": [
    "av_temp = everything_df[\"temperature_mid\"].mean()\n",
    "av_temp"
   ]
  },
  {
   "cell_type": "code",
   "execution_count": 5,
   "id": "76c275ee",
   "metadata": {},
   "outputs": [
    {
     "data": {
      "text/plain": [
       "1.0"
      ]
     },
     "execution_count": 5,
     "metadata": {},
     "output_type": "execute_result"
    }
   ],
   "source": [
    "high_humidity = everything_df[\"humidity\"].max()\n",
    "high_humidity"
   ]
  },
  {
   "cell_type": "code",
   "execution_count": 6,
   "id": "4b92435e",
   "metadata": {},
   "outputs": [
    {
     "data": {
      "text/plain": [
       "0.08"
      ]
     },
     "execution_count": 6,
     "metadata": {},
     "output_type": "execute_result"
    }
   ],
   "source": [
    "low_humidity = everything_df[\"humidity\"].min()\n",
    "low_humidity"
   ]
  },
  {
   "cell_type": "code",
   "execution_count": 7,
   "id": "fd1c3f1f",
   "metadata": {},
   "outputs": [
    {
     "data": {
      "text/plain": [
       "0.7056715090423937"
      ]
     },
     "execution_count": 7,
     "metadata": {},
     "output_type": "execute_result"
    }
   ],
   "source": [
    "av_humidity = everything_df[\"humidity\"].mean()\n",
    "av_humidity"
   ]
  },
  {
   "cell_type": "code",
   "execution_count": 8,
   "id": "7623f5ae",
   "metadata": {},
   "outputs": [
    {
     "data": {
      "text/plain": [
       "0.43898184176394067"
      ]
     },
     "execution_count": 8,
     "metadata": {},
     "output_type": "execute_result"
    }
   ],
   "source": [
    "cloud_cover_av = everything_df[\"cloud_cover\"].mean()\n",
    "cloud_cover_av"
   ]
  },
  {
   "cell_type": "code",
   "execution_count": 9,
   "id": "062f641f",
   "metadata": {},
   "outputs": [
    {
     "data": {
      "text/plain": [
       "0.005708259587020648"
      ]
     },
     "execution_count": 9,
     "metadata": {},
     "output_type": "execute_result"
    }
   ],
   "source": [
    "precipitation_intensity_av = everything_df[\"precip_intensity\"].mean()\n",
    "precipitation_intensity_av"
   ]
  },
  {
   "cell_type": "code",
   "execution_count": 10,
   "id": "a9ac37cf",
   "metadata": {},
   "outputs": [
    {
     "data": {
      "text/plain": [
       "23.94"
      ]
     },
     "execution_count": 10,
     "metadata": {},
     "output_type": "execute_result"
    }
   ],
   "source": [
    "wind_speed_max = everything_df[\"wind_speed\"].max()\n",
    "wind_speed_max"
   ]
  },
  {
   "cell_type": "code",
   "execution_count": 11,
   "id": "b3e81a55",
   "metadata": {},
   "outputs": [
    {
     "data": {
      "text/plain": [
       "3.8660814399527808"
      ]
     },
     "execution_count": 11,
     "metadata": {},
     "output_type": "execute_result"
    }
   ],
   "source": [
    "wind_speed_av = everything_df[\"wind_speed\"].mean()\n",
    "wind_speed_av"
   ]
  },
  {
   "cell_type": "code",
   "execution_count": 12,
   "id": "1bbd5e89",
   "metadata": {},
   "outputs": [],
   "source": [
    "best_conditions = {\"High Temp\": high_temp,\n",
    "                   \"Low Temp\": low_temp,\n",
    "                   \"Av Temp\": av_temp,\n",
    "                   \"High Humidity\": high_humidity,\n",
    "                   \"Low Humidity\": low_humidity, \n",
    "                   \"Av Humidity\": av_humidity, \n",
    "                   \"Av Cloud Cover\": cloud_cover_av,\n",
    "                   \"Av Precip Intesity\": precipitation_intensity_av,\n",
    "                   \"Max Wind Speed\": wind_speed_max,\n",
    "                   \"Wind Speed Av\": wind_speed_av\n",
    "                  }                            "
   ]
  },
  {
   "cell_type": "code",
   "execution_count": 13,
   "id": "cc843d13",
   "metadata": {},
   "outputs": [
    {
     "data": {
      "text/plain": [
       "{'High Temp': 106.51,\n",
       " 'Low Temp': -22.78,\n",
       " 'Av Temp': 57.843377275580465,\n",
       " 'High Humidity': 1.0,\n",
       " 'Low Humidity': 0.08,\n",
       " 'Av Humidity': 0.7056715090423937,\n",
       " 'Av Cloud Cover': 0.43898184176394067,\n",
       " 'Av Precip Intesity': 0.005708259587020648,\n",
       " 'Max Wind Speed': 23.94,\n",
       " 'Wind Speed Av': 3.8660814399527808}"
      ]
     },
     "execution_count": 13,
     "metadata": {},
     "output_type": "execute_result"
    }
   ],
   "source": [
    "best_conditions"
   ]
  },
  {
   "cell_type": "code",
   "execution_count": 28,
   "id": "807a8289",
   "metadata": {},
   "outputs": [
    {
     "data": {
      "text/html": [
       "<div>\n",
       "<style scoped>\n",
       "    .dataframe tbody tr th:only-of-type {\n",
       "        vertical-align: middle;\n",
       "    }\n",
       "\n",
       "    .dataframe tbody tr th {\n",
       "        vertical-align: top;\n",
       "    }\n",
       "\n",
       "    .dataframe thead th {\n",
       "        text-align: right;\n",
       "    }\n",
       "</style>\n",
       "<table border=\"1\" class=\"dataframe\">\n",
       "  <thead>\n",
       "    <tr style=\"text-align: right;\">\n",
       "      <th></th>\n",
       "      <th>state</th>\n",
       "      <th>season</th>\n",
       "    </tr>\n",
       "  </thead>\n",
       "  <tbody>\n",
       "    <tr>\n",
       "      <th>0</th>\n",
       "      <td>Alabama</td>\n",
       "      <td>Summer</td>\n",
       "    </tr>\n",
       "    <tr>\n",
       "      <th>1</th>\n",
       "      <td>Alabama</td>\n",
       "      <td>Winter</td>\n",
       "    </tr>\n",
       "    <tr>\n",
       "      <th>2</th>\n",
       "      <td>Alabama</td>\n",
       "      <td>Winter</td>\n",
       "    </tr>\n",
       "    <tr>\n",
       "      <th>3</th>\n",
       "      <td>Alabama</td>\n",
       "      <td>Winter</td>\n",
       "    </tr>\n",
       "    <tr>\n",
       "      <th>4</th>\n",
       "      <td>Alabama</td>\n",
       "      <td>Summer</td>\n",
       "    </tr>\n",
       "    <tr>\n",
       "      <th>...</th>\n",
       "      <td>...</td>\n",
       "      <td>...</td>\n",
       "    </tr>\n",
       "    <tr>\n",
       "      <th>5017</th>\n",
       "      <td>Wyoming</td>\n",
       "      <td>Fall</td>\n",
       "    </tr>\n",
       "    <tr>\n",
       "      <th>5018</th>\n",
       "      <td>Wyoming</td>\n",
       "      <td>Summer</td>\n",
       "    </tr>\n",
       "    <tr>\n",
       "      <th>5019</th>\n",
       "      <td>Wyoming</td>\n",
       "      <td>Summer</td>\n",
       "    </tr>\n",
       "    <tr>\n",
       "      <th>5020</th>\n",
       "      <td>Wyoming</td>\n",
       "      <td>Winter</td>\n",
       "    </tr>\n",
       "    <tr>\n",
       "      <th>5021</th>\n",
       "      <td>NaN</td>\n",
       "      <td>NaN</td>\n",
       "    </tr>\n",
       "  </tbody>\n",
       "</table>\n",
       "<p>5022 rows × 2 columns</p>\n",
       "</div>"
      ],
      "text/plain": [
       "        state  season\n",
       "0     Alabama  Summer\n",
       "1     Alabama  Winter\n",
       "2     Alabama  Winter\n",
       "3     Alabama  Winter\n",
       "4     Alabama  Summer\n",
       "...       ...     ...\n",
       "5017  Wyoming    Fall\n",
       "5018  Wyoming  Summer\n",
       "5019  Wyoming  Summer\n",
       "5020  Wyoming  Winter\n",
       "5021      NaN     NaN\n",
       "\n",
       "[5022 rows x 2 columns]"
      ]
     },
     "execution_count": 28,
     "metadata": {},
     "output_type": "execute_result"
    }
   ],
   "source": [
    "seasons = pd.read_csv(\"Cleaned CSVs/bfro_reports_seasons.csv\")\n",
    "seasons"
   ]
  },
  {
   "cell_type": "code",
   "execution_count": 37,
   "id": "d0ce430d",
   "metadata": {},
   "outputs": [],
   "source": [
    "seasons_fl = seasons.loc[seasons['state'].isin([\"Florida\"])]"
   ]
  },
  {
   "cell_type": "code",
   "execution_count": 38,
   "id": "3e26d27e",
   "metadata": {},
   "outputs": [
    {
     "data": {
      "text/plain": [
       "Summer     1867\n",
       "Fall       1492\n",
       "Spring      825\n",
       "Winter      745\n",
       "Unknown      92\n",
       "Name: season, dtype: int64"
      ]
     },
     "execution_count": 38,
     "metadata": {},
     "output_type": "execute_result"
    }
   ],
   "source": [
    "seasons_fl_count= seasons_fl['season'].value_counts()\n",
    "seasons_count"
   ]
  },
  {
   "cell_type": "code",
   "execution_count": 40,
   "id": "2355b473",
   "metadata": {},
   "outputs": [
    {
     "data": {
      "text/plain": [
       "Fall       86\n",
       "Summer     70\n",
       "Winter     42\n",
       "Spring     37\n",
       "Unknown     2\n",
       "Name: season, dtype: int64"
      ]
     },
     "execution_count": 40,
     "metadata": {},
     "output_type": "execute_result"
    }
   ],
   "source": [
    "seasons_il = seasons.loc[seasons['state'].isin([\"Illinois\"])]\n",
    "seasons_il_count= seasons_il['season'].value_counts()\n",
    "seasons_il_count"
   ]
  },
  {
   "cell_type": "code",
   "execution_count": 42,
   "id": "cf3b5cf5",
   "metadata": {},
   "outputs": [
    {
     "data": {
      "text/plain": [
       "Summer     81\n",
       "Fall       76\n",
       "Spring     33\n",
       "Winter     23\n",
       "Unknown     3\n",
       "Name: season, dtype: int64"
      ]
     },
     "execution_count": 42,
     "metadata": {},
     "output_type": "execute_result"
    }
   ],
   "source": [
    "seasons_mi = seasons.loc[seasons['state'].isin([\"Michigan\"])]\n",
    "seasons_mi_count= seasons_mi['season'].value_counts()\n",
    "seasons_mi_count"
   ]
  },
  {
   "cell_type": "code",
   "execution_count": 43,
   "id": "11043464",
   "metadata": {},
   "outputs": [
    {
     "data": {
      "text/plain": [
       "Summer     53\n",
       "Fall       50\n",
       "Spring     34\n",
       "Winter     19\n",
       "Unknown     2\n",
       "Name: season, dtype: int64"
      ]
     },
     "execution_count": 43,
     "metadata": {},
     "output_type": "execute_result"
    }
   ],
   "source": [
    "seasons_mo = seasons.loc[seasons['state'].isin([\"Missouri\"])]\n",
    "seasons_mo_count= seasons_mo['season'].value_counts()\n",
    "seasons_mo_count"
   ]
  },
  {
   "cell_type": "code",
   "execution_count": 44,
   "id": "eaef3d97",
   "metadata": {},
   "outputs": [
    {
     "data": {
      "text/plain": [
       "Summer     117\n",
       "Fall        75\n",
       "Spring      55\n",
       "Winter      50\n",
       "Unknown      6\n",
       "Name: season, dtype: int64"
      ]
     },
     "execution_count": 44,
     "metadata": {},
     "output_type": "execute_result"
    }
   ],
   "source": [
    "seasons_oh = seasons.loc[seasons['state'].isin([\"Ohio\"])]\n",
    "seasons_oh_count= seasons_oh['season'].value_counts()\n",
    "seasons_oh_count"
   ]
  },
  {
   "cell_type": "code",
   "execution_count": 46,
   "id": "df06337b",
   "metadata": {},
   "outputs": [
    {
     "data": {
      "text/plain": [
       "Summer     74\n",
       "Fall       70\n",
       "Winter     39\n",
       "Spring     39\n",
       "Unknown     8\n",
       "Name: season, dtype: int64"
      ]
     },
     "execution_count": 46,
     "metadata": {},
     "output_type": "execute_result"
    }
   ],
   "source": [
    "seasons_tx = seasons.loc[seasons['state'].isin([\"Texas\"])]\n",
    "seasons_tx_count= seasons_tx['season'].value_counts()\n",
    "seasons_tx_count"
   ]
  },
  {
   "cell_type": "code",
   "execution_count": 47,
   "id": "937d0670",
   "metadata": {},
   "outputs": [
    {
     "data": {
      "text/plain": [
       "Summer     236\n",
       "Fall       167\n",
       "Spring     118\n",
       "Winter      70\n",
       "Unknown     10\n",
       "Name: season, dtype: int64"
      ]
     },
     "execution_count": 47,
     "metadata": {},
     "output_type": "execute_result"
    }
   ],
   "source": [
    "seasons_wa = seasons.loc[seasons['state'].isin([\"Washington\"])]\n",
    "seasons_wa_count= seasons_wa['season'].value_counts()\n",
    "seasons_wa_count"
   ]
  },
  {
   "cell_type": "code",
   "execution_count": null,
   "id": "6a02956c",
   "metadata": {},
   "outputs": [],
   "source": []
  }
 ],
 "metadata": {
  "kernelspec": {
   "display_name": "Python [conda env:PythonData]",
   "language": "python",
   "name": "conda-env-PythonData-py"
  },
  "language_info": {
   "codemirror_mode": {
    "name": "ipython",
    "version": 3
   },
   "file_extension": ".py",
   "mimetype": "text/x-python",
   "name": "python",
   "nbconvert_exporter": "python",
   "pygments_lexer": "ipython3",
   "version": "3.8.11"
  }
 },
 "nbformat": 4,
 "nbformat_minor": 5
}
